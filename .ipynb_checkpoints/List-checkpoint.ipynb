{
 "cells": [
  {
   "cell_type": "code",
   "execution_count": 10,
   "id": "48770dd1-978c-4994-ba9b-acecb1d13918",
   "metadata": {},
   "outputs": [
    {
     "name": "stdout",
     "output_type": "stream",
     "text": [
      "[1, 2.33, 'hi', True, 'alpha', 'beta', 'theta', 33.44, 666, 100, 12.33]\n"
     ]
    }
   ],
   "source": [
    "a = [1,2.33,\"hi\",True,'alpha','beta','theta',33.44,666,100,12.33]\n",
    "print(a)"
   ]
  },
  {
   "cell_type": "code",
   "execution_count": 12,
   "id": "bd3b548d-239b-4ed3-87b0-1592a37f4c51",
   "metadata": {},
   "outputs": [
    {
     "name": "stdout",
     "output_type": "stream",
     "text": [
      "33.44\n"
     ]
    }
   ],
   "source": [
    "print(a[7])"
   ]
  },
  {
   "cell_type": "code",
   "execution_count": 14,
   "id": "e9e93e24-0579-405b-a488-9b27673eef65",
   "metadata": {},
   "outputs": [
    {
     "name": "stdout",
     "output_type": "stream",
     "text": [
      "100\n"
     ]
    }
   ],
   "source": [
    "print(a[-2])"
   ]
  },
  {
   "cell_type": "code",
   "execution_count": 16,
   "id": "2bdfbe69-8ebe-417c-b79d-65b50ede260b",
   "metadata": {},
   "outputs": [
    {
     "name": "stdout",
     "output_type": "stream",
     "text": [
      "[2.33, 'hi', True, 'alpha', 'beta', 'theta', 33.44, 666]\n",
      "[True, 'alpha', 'beta', 'theta', 33.44, 666, 100]\n"
     ]
    }
   ],
   "source": [
    "print(a[1:9])\n",
    "print(a[3:-1])"
   ]
  },
  {
   "cell_type": "code",
   "execution_count": 18,
   "id": "e44aa6a2-9377-4604-b572-7defb1a3d591",
   "metadata": {},
   "outputs": [
    {
     "name": "stdout",
     "output_type": "stream",
     "text": [
      "[1, 2.33, 'hi', True, 'alpha', 'beta', 'theta', 33.44, 666, 100, 12.33]\n"
     ]
    }
   ],
   "source": [
    "print(a[:])"
   ]
  },
  {
   "cell_type": "code",
   "execution_count": 20,
   "id": "e6edac26-ad9b-4f7f-bad5-5057ba0a3757",
   "metadata": {},
   "outputs": [
    {
     "name": "stdout",
     "output_type": "stream",
     "text": [
      "[1, True, 'theta', 100]\n"
     ]
    }
   ],
   "source": [
    "print(a[::3])"
   ]
  },
  {
   "cell_type": "code",
   "execution_count": 22,
   "id": "4e69c0d7-e651-47df-acef-126191990cdd",
   "metadata": {},
   "outputs": [
    {
     "name": "stdout",
     "output_type": "stream",
     "text": [
      "[1, 'hi', 'alpha', 'theta', 666, 12.33]\n"
     ]
    }
   ],
   "source": [
    "print(a[0:11:2])"
   ]
  },
  {
   "cell_type": "code",
   "execution_count": 24,
   "id": "892dc8ef-8ac4-46a5-8a41-343a408c3f61",
   "metadata": {},
   "outputs": [
    {
     "name": "stdout",
     "output_type": "stream",
     "text": [
      "[12.33, 100, 666, 33.44, 'theta', 'beta', 'alpha', True, 'hi', 2.33, 1]\n"
     ]
    }
   ],
   "source": [
    "print(a[::-1])"
   ]
  },
  {
   "cell_type": "code",
   "execution_count": null,
   "id": "e143f79b-6f20-4664-97b7-49a14154cf95",
   "metadata": {},
   "outputs": [],
   "source": []
  },
  {
   "cell_type": "code",
   "execution_count": null,
   "id": "0a79e24c-10a1-444e-a841-496b4d612a16",
   "metadata": {},
   "outputs": [],
   "source": []
  },
  {
   "cell_type": "code",
   "execution_count": null,
   "id": "0c1b483e-5f8a-4022-9c91-b0b301b55767",
   "metadata": {},
   "outputs": [],
   "source": []
  },
  {
   "cell_type": "code",
   "execution_count": null,
   "id": "e22c59d7-ecd4-4d00-b5a3-d64b7f903d19",
   "metadata": {},
   "outputs": [],
   "source": []
  },
  {
   "cell_type": "code",
   "execution_count": null,
   "id": "6ffbee3b-6667-48b6-acb7-cdaa8b6f5ddc",
   "metadata": {},
   "outputs": [],
   "source": []
  },
  {
   "cell_type": "code",
   "execution_count": null,
   "id": "3183b2ff-d43d-48e2-a156-ae8c21cf82fd",
   "metadata": {},
   "outputs": [],
   "source": []
  },
  {
   "cell_type": "code",
   "execution_count": null,
   "id": "65ef37e2-3774-4136-8437-df0954afc949",
   "metadata": {},
   "outputs": [],
   "source": []
  }
 ],
 "metadata": {
  "kernelspec": {
   "display_name": "Python [conda env:base] *",
   "language": "python",
   "name": "conda-base-py"
  },
  "language_info": {
   "codemirror_mode": {
    "name": "ipython",
    "version": 3
   },
   "file_extension": ".py",
   "mimetype": "text/x-python",
   "name": "python",
   "nbconvert_exporter": "python",
   "pygments_lexer": "ipython3",
   "version": "3.12.7"
  }
 },
 "nbformat": 4,
 "nbformat_minor": 5
}
