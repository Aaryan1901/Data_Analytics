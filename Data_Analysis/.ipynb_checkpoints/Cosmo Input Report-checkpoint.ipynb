{
 "cells": [
  {
   "cell_type": "code",
   "execution_count": 7,
   "id": "52490fcb-3e9b-416e-90e0-02d7db580e48",
   "metadata": {},
   "outputs": [
    {
     "name": "stdout",
     "output_type": "stream",
     "text": [
      "Excel file loaded successfully\n",
      "Error: 'Source Name' column not found in the Excel file.\n",
      "Splitting completed successfully!\n"
     ]
    }
   ],
   "source": [
    "import os\n",
    "import pandas as pd\n",
    "\n",
    "# Define file paths\n",
    "file_path = r\"C:\\Users\\Aaryan\\Documents\\Test\"\n",
    "file_name = \"Cosmo Input Report.xlsx\"\n",
    "sheet_name = \"QA Tracker\"\n",
    "\n",
    "full_file_path = os.path.join(file_path, file_name)\n",
    "output_base_path = r\"C:\\Users\\Aaryan\\Documents\\for_split\"\n",
    "\n",
    "# Check if file exists before reading\n",
    "if os.path.exists(full_file_path):\n",
    "    df = pd.read_excel(full_file_path, sheet_name=sheet_name)\n",
    "    print(\"Excel file loaded successfully\")\n",
    "    \n",
    "    # Print all column names for debugging\n",
    "    print(\"Columns in the file:\", df.columns.tolist())\n",
    "\n",
    "    # Check if 'Source Name' column exists\n",
    "    if 'Source Name' not in df.columns:\n",
    "        print(\"Error: 'Source Name' column not found in the Excel file.\")\n",
    "    else:\n",
    "        # Iterate over unique source names\n",
    "        for source in df['Source Name'].unique():\n",
    "            output_file = os.path.join(output_base_path, f\"{source}.xlsx\")\n",
    "            df[df['Source Name'] == source].to_excel(output_file, index=False)\n",
    "            print(f\"Saved: {output_file}\")\n",
    "    \n",
    "    print(\"Splitting completed successfully!\")\n",
    "else:\n",
    "    print(\"File does not exist\")\n"
   ]
  },
  {
   "cell_type": "code",
   "execution_count": null,
   "id": "80e36efd-6048-4fd1-bb8c-58497958deb1",
   "metadata": {},
   "outputs": [],
   "source": []
  },
  {
   "cell_type": "code",
   "execution_count": null,
   "id": "e14e4369-c2f6-4779-b020-c27d7d825e2a",
   "metadata": {},
   "outputs": [],
   "source": []
  },
  {
   "cell_type": "code",
   "execution_count": null,
   "id": "a447fb53-3dda-46d7-a964-3ddfd7edf5e4",
   "metadata": {},
   "outputs": [],
   "source": []
  },
  {
   "cell_type": "code",
   "execution_count": null,
   "id": "808a2241-96ef-477a-9594-29348467d767",
   "metadata": {},
   "outputs": [],
   "source": []
  },
  {
   "cell_type": "code",
   "execution_count": null,
   "id": "a857c656-7d9e-4878-bb63-06ba400bcf5c",
   "metadata": {},
   "outputs": [],
   "source": []
  },
  {
   "cell_type": "code",
   "execution_count": null,
   "id": "fed6d138-00d1-47cc-bf5d-79ef434f979c",
   "metadata": {},
   "outputs": [],
   "source": []
  },
  {
   "cell_type": "code",
   "execution_count": null,
   "id": "b36d660f-fec7-466b-96c9-338d4dd92149",
   "metadata": {},
   "outputs": [],
   "source": []
  },
  {
   "cell_type": "code",
   "execution_count": null,
   "id": "98696be8-eae3-4237-833f-a70ad4ba1f07",
   "metadata": {},
   "outputs": [],
   "source": []
  },
  {
   "cell_type": "code",
   "execution_count": null,
   "id": "db324799-897d-4d45-9835-33f10ee7ae4e",
   "metadata": {},
   "outputs": [],
   "source": []
  },
  {
   "cell_type": "code",
   "execution_count": null,
   "id": "5067c9df-e745-4225-b62a-897fd25d4e52",
   "metadata": {},
   "outputs": [],
   "source": []
  },
  {
   "cell_type": "code",
   "execution_count": null,
   "id": "4823cec0-c08f-4103-8b7d-d04e31dc898a",
   "metadata": {},
   "outputs": [],
   "source": []
  },
  {
   "cell_type": "code",
   "execution_count": null,
   "id": "754e2bed-5021-4dd4-882e-082e1c7a13fa",
   "metadata": {},
   "outputs": [],
   "source": []
  },
  {
   "cell_type": "code",
   "execution_count": null,
   "id": "205a861b-1326-4914-a567-b8bc9eb1f5d0",
   "metadata": {},
   "outputs": [],
   "source": []
  },
  {
   "cell_type": "code",
   "execution_count": null,
   "id": "20e85ede-5b9b-4e11-95a6-085d5abb9bef",
   "metadata": {},
   "outputs": [],
   "source": []
  },
  {
   "cell_type": "code",
   "execution_count": null,
   "id": "0875e3e5-f2a1-42ab-9442-55081dfbe2f9",
   "metadata": {},
   "outputs": [],
   "source": []
  }
 ],
 "metadata": {
  "kernelspec": {
   "display_name": "Python [conda env:base] *",
   "language": "python",
   "name": "conda-base-py"
  },
  "language_info": {
   "codemirror_mode": {
    "name": "ipython",
    "version": 3
   },
   "file_extension": ".py",
   "mimetype": "text/x-python",
   "name": "python",
   "nbconvert_exporter": "python",
   "pygments_lexer": "ipython3",
   "version": "3.12.7"
  }
 },
 "nbformat": 4,
 "nbformat_minor": 5
}
