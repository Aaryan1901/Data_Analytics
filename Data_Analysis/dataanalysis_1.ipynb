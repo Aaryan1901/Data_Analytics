{
 "cells": [
  {
   "cell_type": "code",
   "execution_count": 33,
   "id": "7348e30f",
   "metadata": {},
   "outputs": [],
   "source": [
    "#Importing libs\n",
    "import pandas as pd\n",
    "import os\n",
    "import numpy as np"
   ]
  },
  {
   "cell_type": "code",
   "execution_count": 35,
   "id": "6aabc392",
   "metadata": {},
   "outputs": [
    {
     "name": "stdout",
     "output_type": "stream",
     "text": [
      "Excel file loaded sucessfully\n"
     ]
    }
   ],
   "source": [
    "#Read file from path\n",
    "file_path = r\"C:\\Users\\Aaryan\\Downloads\\Test1\"\n",
    "file_name = \"qa_accuracy_original_file.xlsx\"\n",
    "sheet_name = \"QA Tracker\"\n",
    "full_file_path = os.path.join(file_path,file_name)\n",
    "if os.path.exists(full_file_path):\n",
    "    quality_df = pd.read_excel(full_file_path,sheet_name=sheet_name)\n",
    "    print(\"Excel file loaded sucessfully\")\n",
    "else:\n",
    "    print(\"File not available, check the path or file name\")\n",
    "\n",
    "#column values convert into lower and removig spaces    \n",
    "quality_df.columns\n",
    "quality_df.columns = quality_df.columns.str.lower()\n",
    "quality_df.columns = quality_df.columns.str.replace(\" \",\"_\")"
   ]
  },
  {
   "cell_type": "code",
   "execution_count": 36,
   "id": "957fb69a-8daa-4ac8-b8d0-3b1a9e244e3a",
   "metadata": {},
   "outputs": [
    {
     "data": {
      "text/plain": [
       "Index(['spi_editor', 'source', 'unnamed:_2', 'dates_checked_to_mm/dd',\n",
       "       '#days_checked', 'spi_qa_editor', 'date_qa'd', 'total_#_shows',\n",
       "       'total_#_episodes', 'titles_correct', 'rovi_episodes_correct',\n",
       "       '%_shows_correct', '%_rovi_episodes_correct', '%_correct', 'wp', 'mp',\n",
       "       'ep', 'we', 'me', 'wt', 'wl', 'ml', 'mat', 'wat', 'mu', 'tv', 'ld/sd',\n",
       "       'urfp', 'wrfp', 'cpr', 'ie_for_p', 'ie_for_e', 'valid_errors',\n",
       "       'errors_marked', 'remarks', 'jira/non_jira', 'team',\n",
       "       'qa_feedback_response', 'priority'],\n",
       "      dtype='object')"
      ]
     },
     "execution_count": 36,
     "metadata": {},
     "output_type": "execute_result"
    }
   ],
   "source": [
    "quality_df.columns"
   ]
  },
  {
   "cell_type": "code",
   "execution_count": null,
   "id": "acbc9661-9b0e-498f-937e-9e780f0705a9",
   "metadata": {},
   "outputs": [],
   "source": []
  },
  {
   "cell_type": "code",
   "execution_count": null,
   "id": "4f11372f-8ca8-4fcf-885a-14b4425ab770",
   "metadata": {},
   "outputs": [],
   "source": []
  },
  {
   "cell_type": "code",
   "execution_count": 19,
   "id": "ecca3cd7",
   "metadata": {},
   "outputs": [
    {
     "ename": "TypeError",
     "evalue": "unsupported operand type(s) for -: 'str' and 'int'",
     "output_type": "error",
     "traceback": [
      "\u001b[1;31m---------------------------------------------------------------------------\u001b[0m",
      "\u001b[1;31mTypeError\u001b[0m                                 Traceback (most recent call last)",
      "File \u001b[1;32m~\\anaconda3\\Lib\\site-packages\\pandas\\core\\ops\\array_ops.py:218\u001b[0m, in \u001b[0;36m_na_arithmetic_op\u001b[1;34m(left, right, op, is_cmp)\u001b[0m\n\u001b[0;32m    217\u001b[0m \u001b[38;5;28;01mtry\u001b[39;00m:\n\u001b[1;32m--> 218\u001b[0m     result \u001b[38;5;241m=\u001b[39m func(left, right)\n\u001b[0;32m    219\u001b[0m \u001b[38;5;28;01mexcept\u001b[39;00m \u001b[38;5;167;01mTypeError\u001b[39;00m:\n",
      "File \u001b[1;32m~\\anaconda3\\Lib\\site-packages\\pandas\\core\\computation\\expressions.py:242\u001b[0m, in \u001b[0;36mevaluate\u001b[1;34m(op, a, b, use_numexpr)\u001b[0m\n\u001b[0;32m    240\u001b[0m     \u001b[38;5;28;01mif\u001b[39;00m use_numexpr:\n\u001b[0;32m    241\u001b[0m         \u001b[38;5;66;03m# error: \"None\" not callable\u001b[39;00m\n\u001b[1;32m--> 242\u001b[0m         \u001b[38;5;28;01mreturn\u001b[39;00m _evaluate(op, op_str, a, b)  \u001b[38;5;66;03m# type: ignore[misc]\u001b[39;00m\n\u001b[0;32m    243\u001b[0m \u001b[38;5;28;01mreturn\u001b[39;00m _evaluate_standard(op, op_str, a, b)\n",
      "File \u001b[1;32m~\\anaconda3\\Lib\\site-packages\\pandas\\core\\computation\\expressions.py:131\u001b[0m, in \u001b[0;36m_evaluate_numexpr\u001b[1;34m(op, op_str, a, b)\u001b[0m\n\u001b[0;32m    130\u001b[0m \u001b[38;5;28;01mif\u001b[39;00m result \u001b[38;5;129;01mis\u001b[39;00m \u001b[38;5;28;01mNone\u001b[39;00m:\n\u001b[1;32m--> 131\u001b[0m     result \u001b[38;5;241m=\u001b[39m _evaluate_standard(op, op_str, a, b)\n\u001b[0;32m    133\u001b[0m \u001b[38;5;28;01mreturn\u001b[39;00m result\n",
      "File \u001b[1;32m~\\anaconda3\\Lib\\site-packages\\pandas\\core\\computation\\expressions.py:73\u001b[0m, in \u001b[0;36m_evaluate_standard\u001b[1;34m(op, op_str, a, b)\u001b[0m\n\u001b[0;32m     72\u001b[0m     _store_test_result(\u001b[38;5;28;01mFalse\u001b[39;00m)\n\u001b[1;32m---> 73\u001b[0m \u001b[38;5;28;01mreturn\u001b[39;00m op(a, b)\n",
      "\u001b[1;31mTypeError\u001b[0m: unsupported operand type(s) for -: 'str' and 'int'",
      "\nDuring handling of the above exception, another exception occurred:\n",
      "\u001b[1;31mTypeError\u001b[0m                                 Traceback (most recent call last)",
      "Cell \u001b[1;32mIn[19], line 4\u001b[0m\n\u001b[0;32m      2\u001b[0m date_columns \u001b[38;5;241m=\u001b[39m [\u001b[38;5;124m\"\u001b[39m\u001b[38;5;124munnamed:_2\u001b[39m\u001b[38;5;124m\"\u001b[39m,\u001b[38;5;124m\"\u001b[39m\u001b[38;5;124mdates_checked_to_mm/dd\u001b[39m\u001b[38;5;124m\"\u001b[39m,\u001b[38;5;124m\"\u001b[39m\u001b[38;5;124mdate_qa\u001b[39m\u001b[38;5;124m'\u001b[39m\u001b[38;5;124md\u001b[39m\u001b[38;5;124m\"\u001b[39m]\n\u001b[0;32m      3\u001b[0m \u001b[38;5;28;01mfor\u001b[39;00m column \u001b[38;5;129;01min\u001b[39;00m date_columns:\n\u001b[1;32m----> 4\u001b[0m     quality_df[column] \u001b[38;5;241m=\u001b[39m pd\u001b[38;5;241m.\u001b[39mto_datetime(quality_df[column]\u001b[38;5;241m-\u001b[39m\u001b[38;5;241m25569\u001b[39m,unit\u001b[38;5;241m=\u001b[39m\u001b[38;5;124m'\u001b[39m\u001b[38;5;124mD\u001b[39m\u001b[38;5;124m'\u001b[39m)\n\u001b[0;32m      5\u001b[0m     quality_df[column]\u001b[38;5;241m=\u001b[39m quality_df[column]\u001b[38;5;241m.\u001b[39mdt\u001b[38;5;241m.\u001b[39mstrftime(\u001b[38;5;124m\"\u001b[39m\u001b[38;5;132;01m%d\u001b[39;00m\u001b[38;5;124m-\u001b[39m\u001b[38;5;124m%\u001b[39m\u001b[38;5;124mm-\u001b[39m\u001b[38;5;124m%\u001b[39m\u001b[38;5;124my\u001b[39m\u001b[38;5;124m\"\u001b[39m)\n\u001b[0;32m      6\u001b[0m \u001b[38;5;66;03m#Remove Space from column spi_editor and replace valuce - Data deduping\u001b[39;00m\n",
      "File \u001b[1;32m~\\anaconda3\\Lib\\site-packages\\pandas\\core\\ops\\common.py:76\u001b[0m, in \u001b[0;36m_unpack_zerodim_and_defer.<locals>.new_method\u001b[1;34m(self, other)\u001b[0m\n\u001b[0;32m     72\u001b[0m             \u001b[38;5;28;01mreturn\u001b[39;00m \u001b[38;5;28mNotImplemented\u001b[39m\n\u001b[0;32m     74\u001b[0m other \u001b[38;5;241m=\u001b[39m item_from_zerodim(other)\n\u001b[1;32m---> 76\u001b[0m \u001b[38;5;28;01mreturn\u001b[39;00m method(\u001b[38;5;28mself\u001b[39m, other)\n",
      "File \u001b[1;32m~\\anaconda3\\Lib\\site-packages\\pandas\\core\\arraylike.py:194\u001b[0m, in \u001b[0;36mOpsMixin.__sub__\u001b[1;34m(self, other)\u001b[0m\n\u001b[0;32m    192\u001b[0m \u001b[38;5;129m@unpack_zerodim_and_defer\u001b[39m(\u001b[38;5;124m\"\u001b[39m\u001b[38;5;124m__sub__\u001b[39m\u001b[38;5;124m\"\u001b[39m)\n\u001b[0;32m    193\u001b[0m \u001b[38;5;28;01mdef\u001b[39;00m \u001b[38;5;21m__sub__\u001b[39m(\u001b[38;5;28mself\u001b[39m, other):\n\u001b[1;32m--> 194\u001b[0m     \u001b[38;5;28;01mreturn\u001b[39;00m \u001b[38;5;28mself\u001b[39m\u001b[38;5;241m.\u001b[39m_arith_method(other, operator\u001b[38;5;241m.\u001b[39msub)\n",
      "File \u001b[1;32m~\\anaconda3\\Lib\\site-packages\\pandas\\core\\series.py:6135\u001b[0m, in \u001b[0;36mSeries._arith_method\u001b[1;34m(self, other, op)\u001b[0m\n\u001b[0;32m   6133\u001b[0m \u001b[38;5;28;01mdef\u001b[39;00m \u001b[38;5;21m_arith_method\u001b[39m(\u001b[38;5;28mself\u001b[39m, other, op):\n\u001b[0;32m   6134\u001b[0m     \u001b[38;5;28mself\u001b[39m, other \u001b[38;5;241m=\u001b[39m \u001b[38;5;28mself\u001b[39m\u001b[38;5;241m.\u001b[39m_align_for_op(other)\n\u001b[1;32m-> 6135\u001b[0m     \u001b[38;5;28;01mreturn\u001b[39;00m base\u001b[38;5;241m.\u001b[39mIndexOpsMixin\u001b[38;5;241m.\u001b[39m_arith_method(\u001b[38;5;28mself\u001b[39m, other, op)\n",
      "File \u001b[1;32m~\\anaconda3\\Lib\\site-packages\\pandas\\core\\base.py:1382\u001b[0m, in \u001b[0;36mIndexOpsMixin._arith_method\u001b[1;34m(self, other, op)\u001b[0m\n\u001b[0;32m   1379\u001b[0m     rvalues \u001b[38;5;241m=\u001b[39m np\u001b[38;5;241m.\u001b[39marange(rvalues\u001b[38;5;241m.\u001b[39mstart, rvalues\u001b[38;5;241m.\u001b[39mstop, rvalues\u001b[38;5;241m.\u001b[39mstep)\n\u001b[0;32m   1381\u001b[0m \u001b[38;5;28;01mwith\u001b[39;00m np\u001b[38;5;241m.\u001b[39merrstate(\u001b[38;5;28mall\u001b[39m\u001b[38;5;241m=\u001b[39m\u001b[38;5;124m\"\u001b[39m\u001b[38;5;124mignore\u001b[39m\u001b[38;5;124m\"\u001b[39m):\n\u001b[1;32m-> 1382\u001b[0m     result \u001b[38;5;241m=\u001b[39m ops\u001b[38;5;241m.\u001b[39marithmetic_op(lvalues, rvalues, op)\n\u001b[0;32m   1384\u001b[0m \u001b[38;5;28;01mreturn\u001b[39;00m \u001b[38;5;28mself\u001b[39m\u001b[38;5;241m.\u001b[39m_construct_result(result, name\u001b[38;5;241m=\u001b[39mres_name)\n",
      "File \u001b[1;32m~\\anaconda3\\Lib\\site-packages\\pandas\\core\\ops\\array_ops.py:283\u001b[0m, in \u001b[0;36marithmetic_op\u001b[1;34m(left, right, op)\u001b[0m\n\u001b[0;32m    279\u001b[0m     _bool_arith_check(op, left, right)  \u001b[38;5;66;03m# type: ignore[arg-type]\u001b[39;00m\n\u001b[0;32m    281\u001b[0m     \u001b[38;5;66;03m# error: Argument 1 to \"_na_arithmetic_op\" has incompatible type\u001b[39;00m\n\u001b[0;32m    282\u001b[0m     \u001b[38;5;66;03m# \"Union[ExtensionArray, ndarray[Any, Any]]\"; expected \"ndarray[Any, Any]\"\u001b[39;00m\n\u001b[1;32m--> 283\u001b[0m     res_values \u001b[38;5;241m=\u001b[39m _na_arithmetic_op(left, right, op)  \u001b[38;5;66;03m# type: ignore[arg-type]\u001b[39;00m\n\u001b[0;32m    285\u001b[0m \u001b[38;5;28;01mreturn\u001b[39;00m res_values\n",
      "File \u001b[1;32m~\\anaconda3\\Lib\\site-packages\\pandas\\core\\ops\\array_ops.py:227\u001b[0m, in \u001b[0;36m_na_arithmetic_op\u001b[1;34m(left, right, op, is_cmp)\u001b[0m\n\u001b[0;32m    219\u001b[0m \u001b[38;5;28;01mexcept\u001b[39;00m \u001b[38;5;167;01mTypeError\u001b[39;00m:\n\u001b[0;32m    220\u001b[0m     \u001b[38;5;28;01mif\u001b[39;00m \u001b[38;5;129;01mnot\u001b[39;00m is_cmp \u001b[38;5;129;01mand\u001b[39;00m (\n\u001b[0;32m    221\u001b[0m         left\u001b[38;5;241m.\u001b[39mdtype \u001b[38;5;241m==\u001b[39m \u001b[38;5;28mobject\u001b[39m \u001b[38;5;129;01mor\u001b[39;00m \u001b[38;5;28mgetattr\u001b[39m(right, \u001b[38;5;124m\"\u001b[39m\u001b[38;5;124mdtype\u001b[39m\u001b[38;5;124m\"\u001b[39m, \u001b[38;5;28;01mNone\u001b[39;00m) \u001b[38;5;241m==\u001b[39m \u001b[38;5;28mobject\u001b[39m\n\u001b[0;32m    222\u001b[0m     ):\n\u001b[1;32m   (...)\u001b[0m\n\u001b[0;32m    225\u001b[0m         \u001b[38;5;66;03m# Don't do this for comparisons, as that will handle complex numbers\u001b[39;00m\n\u001b[0;32m    226\u001b[0m         \u001b[38;5;66;03m#  incorrectly, see GH#32047\u001b[39;00m\n\u001b[1;32m--> 227\u001b[0m         result \u001b[38;5;241m=\u001b[39m _masked_arith_op(left, right, op)\n\u001b[0;32m    228\u001b[0m     \u001b[38;5;28;01melse\u001b[39;00m:\n\u001b[0;32m    229\u001b[0m         \u001b[38;5;28;01mraise\u001b[39;00m\n",
      "File \u001b[1;32m~\\anaconda3\\Lib\\site-packages\\pandas\\core\\ops\\array_ops.py:182\u001b[0m, in \u001b[0;36m_masked_arith_op\u001b[1;34m(x, y, op)\u001b[0m\n\u001b[0;32m    179\u001b[0m         mask \u001b[38;5;241m=\u001b[39m np\u001b[38;5;241m.\u001b[39mwhere(y \u001b[38;5;241m==\u001b[39m \u001b[38;5;241m1\u001b[39m, \u001b[38;5;28;01mFalse\u001b[39;00m, mask)\n\u001b[0;32m    181\u001b[0m     \u001b[38;5;28;01mif\u001b[39;00m mask\u001b[38;5;241m.\u001b[39many():\n\u001b[1;32m--> 182\u001b[0m         result[mask] \u001b[38;5;241m=\u001b[39m op(xrav[mask], y)\n\u001b[0;32m    184\u001b[0m np\u001b[38;5;241m.\u001b[39mputmask(result, \u001b[38;5;241m~\u001b[39mmask, np\u001b[38;5;241m.\u001b[39mnan)\n\u001b[0;32m    185\u001b[0m result \u001b[38;5;241m=\u001b[39m result\u001b[38;5;241m.\u001b[39mreshape(x\u001b[38;5;241m.\u001b[39mshape)  \u001b[38;5;66;03m# 2D compat\u001b[39;00m\n",
      "\u001b[1;31mTypeError\u001b[0m: unsupported operand type(s) for -: 'str' and 'int'"
     ]
    }
   ],
   "source": [
    "#converting date column into date format - Data formatting\n",
    "date_columns = [\"dates_checked_from_mm/dd\",\"dates_checked_to_mm/dd\",\"date_qa'd\"]\n",
    "for column in date_columns:\n",
    "    quality_df[column] = pd.to_datetime(quality_df[column]-25569,unit='D')\n",
    "    quality_df[column]= quality_df[column].dt.strftime(\"%d-%m-%y\")\n",
    "#Remove Space from column spi_editor and replace valuce - Data deduping\n",
    "quality_df['spi_editor'] = quality_df['spi_editor'].str.strip()\n",
    "quality_df['spi_editor'] = quality_df['spi_editor'].replace(\"Vidhya\",\"Vidhya Tekur\") \n",
    "\n",
    "quality_df['%_shows_correct'] = pd.to_numeric(quality_df['%_shows_correct'],errors='coerce')*100\n",
    "quality_df['%_rovi_episodes_correct'] = pd.to_numeric(quality_df['%_rovi_episodes_correct'],errors='coerce')*100\n",
    "quality_df['%_correct'] = pd.to_numeric(quality_df['%_correct'],errors='coerce')*100"
   ]
  },
  {
   "cell_type": "code",
   "execution_count": 40,
   "id": "01a81b7b",
   "metadata": {},
   "outputs": [],
   "source": [
    "#Calculation - Data Calculation and Analysis\n",
    "quality_df['new_%_shows_correct'] = (quality_df['titles_correct']/quality_df['total_#_shows'])*100\n",
    "quality_df['new_%_rovi_episodes_correct'] = (quality_df['rovi_episodes_correct']/quality_df['total_#_episodes'])*100\n",
    "quality_df['new_%_correct'] = np.where(\n",
    "    quality_df['new_%_rovi_episodes_correct'].isnull(),\n",
    "    quality_df['new_%_shows_correct'],\n",
    "    (quality_df['new_%_shows_correct']*0.60+quality_df['new_%_rovi_episodes_correct']*0.40))"
   ]
  },
  {
   "cell_type": "code",
   "execution_count": 42,
   "id": "254b4494",
   "metadata": {},
   "outputs": [],
   "source": [
    "#drop error values - Error handling\n",
    "quality_df['check'] = quality_df['new_%_correct'].round(2)==quality_df['%_correct'].round(2)\n",
    "error_df = quality_df[quality_df['check']==False]\n",
    "filtered_df = quality_df[quality_df['check']==True]"
   ]
  },
  {
   "cell_type": "code",
   "execution_count": 44,
   "id": "2b512a65",
   "metadata": {},
   "outputs": [],
   "source": [
    "#Group by and Pivot\n",
    "\n",
    "average_percentage_correct = filtered_df.groupby('spi_editor')['new_%_correct'].mean().round(2)\n",
    "average_percentage_correct_sorted = average_percentage_correct.sort_values()\n",
    "\n",
    "pivot_df = average_percentage_correct_sorted.reset_index()\n",
    "pivot_df.rename(columns={'new_%_correct':'quality_score'},inplace=True)"
   ]
  },
  {
   "cell_type": "code",
   "execution_count": 46,
   "id": "685f3d65",
   "metadata": {},
   "outputs": [
    {
     "data": {
      "image/png": "[encoded data removed]",
      "text/plain": [
       "<Figure size 1200x600 with 1 Axes>"
      ]
     },
     "metadata": {},
     "output_type": "display_data"
    }
   ],
   "source": [
    "import matplotlib.pyplot as plt\n",
    "\n",
    "# Create the column chart\n",
    "plt.figure(figsize=(12, 6))\n",
    "bars = plt.barh(pivot_df['spi_editor'], pivot_df['quality_score'], color='lightblue')\n",
    "\n",
    "# Add data values on the right side of each bar\n",
    "for bar in bars:\n",
    "   xval = bar.get_width()\n",
    "   plt.text(xval, bar.get_y() + bar.get_height()/2, round(xval, 2), ha='right', va='center')\n",
    "\n",
    "plt.ylabel('spi_editor')\n",
    "plt.xlabel('quality_score')\n",
    "plt.title('Quality Average Score by SPI Editor')\n",
    "plt.tight_layout()  # Adjust layout to prevent overlapping\n",
    "\n",
    "# Show the column chart\n",
    "plt.show()"
   ]
  },
  {
   "cell_type": "code",
   "execution_count": 48,
   "id": "fe96dc5f",
   "metadata": {},
   "outputs": [],
   "source": [
    "grouped_df = filtered_df.groupby('spi_editor').agg(\n",
    "    quality_score = (\"new_%_correct\",\"mean\"),\n",
    "    total_source_Qaed = (\"spi_editor\",\"count\")\n",
    ").round(2)\n",
    "\n",
    "grouped_df = grouped_df.sort_values(by='quality_score')"
   ]
  },
  {
   "cell_type": "code",
   "execution_count": 50,
   "id": "9e6adcc0",
   "metadata": {},
   "outputs": [
    {
     "data": {
      "image/png": "[encoded data removed]",
      "text/plain": [
       "<Figure size 1200x600 with 2 Axes>"
      ]
     },
     "metadata": {},
     "output_type": "display_data"
    }
   ],
   "source": [
    "import matplotlib.pyplot as plt\n",
    "\n",
    "# Create figure and axis\n",
    "fig, ax1 = plt.subplots(figsize=(12, 6))\n",
    "\n",
    "# Bar chart for Total Source QA'ed (blue bars)\n",
    "bars = ax1.barh(pivot_df['spi_editor'], grouped_df['total_source_Qaed'], color='lightblue', label='Total Source QA\\'ed')\n",
    "\n",
    "# Add labels on bars\n",
    "for bar in bars:\n",
    "    xval = bar.get_width()\n",
    "    ax1.text(xval, bar.get_y() + bar.get_height()/2, int(xval), ha='right', va='center')\n",
    "\n",
    "ax1.set_xlabel('Total Source QA\\'ed')\n",
    "ax1.set_ylabel('SPI Editor')\n",
    "\n",
    "# Create a second Y-axis for the line plot\n",
    "ax2 = ax1.twiny()\n",
    "\n",
    "# Line plot for Quality Score (red line)\n",
    "ax2.plot(pivot_df['quality_score'], pivot_df['spi_editor'], color='red', marker='o', linestyle='-', linewidth=2, label='Quality Score')\n",
    "\n",
    "ax2.set_xlabel('Quality Score')\n",
    "\n",
    "# Add legend\n",
    "ax1.legend(loc='upper left')\n",
    "ax2.legend(loc='upper right')\n",
    "\n",
    "plt.title('Quality Average Score & Total Source QA\\'ed by SPI Editor')\n",
    "plt.tight_layout()\n",
    "\n",
    "# Show plot\n",
    "plt.show()"
   ]
  },
  {
   "cell_type": "code",
   "execution_count": null,
   "id": "c34159d1",
   "metadata": {},
   "outputs": [],
   "source": []
  },
  {
   "cell_type": "code",
   "execution_count": null,
   "id": "ccc07e21",
   "metadata": {},
   "outputs": [],
   "source": [
    "filtered_df"
   ]
  },
  {
   "cell_type": "code",
   "execution_count": 29,
   "id": "646d5de4",
   "metadata": {},
   "outputs": [
    {
     "ename": "NameError",
     "evalue": "name 'grouped_df' is not defined",
     "output_type": "error",
     "traceback": [
      "\u001b[1;31m---------------------------------------------------------------------------\u001b[0m",
      "\u001b[1;31mNameError\u001b[0m                                 Traceback (most recent call last)",
      "Cell \u001b[1;32mIn[29], line 1\u001b[0m\n\u001b[1;32m----> 1\u001b[0m grouped_df\n",
      "\u001b[1;31mNameError\u001b[0m: name 'grouped_df' is not defined"
     ]
    }
   ],
   "source": [
    "grouped_df"
   ]
  },
  {
   "cell_type": "code",
   "execution_count": null,
   "id": "22192833",
   "metadata": {},
   "outputs": [],
   "source": []
  },
  {
   "cell_type": "code",
   "execution_count": null,
   "id": "33d89e0c",
   "metadata": {},
   "outputs": [],
   "source": []
  },
  {
   "cell_type": "code",
   "execution_count": null,
   "id": "0cfa4ad0",
   "metadata": {},
   "outputs": [],
   "source": []
  },
  {
   "cell_type": "code",
   "execution_count": null,
   "id": "073354f6",
   "metadata": {},
   "outputs": [],
   "source": []
  },
  {
   "cell_type": "code",
   "execution_count": null,
   "id": "f75b249f",
   "metadata": {},
   "outputs": [],
   "source": []
  },
  {
   "cell_type": "code",
   "execution_count": null,
   "id": "9ff0acfb",
   "metadata": {},
   "outputs": [],
   "source": []
  },
  {
   "cell_type": "code",
   "execution_count": null,
   "id": "e6dcdc50",
   "metadata": {},
   "outputs": [],
   "source": []
  },
  {
   "cell_type": "code",
   "execution_count": null,
   "id": "0ffc0869",
   "metadata": {},
   "outputs": [],
   "source": []
  },
  {
   "cell_type": "code",
   "execution_count": null,
   "id": "ba80b972",
   "metadata": {},
   "outputs": [],
   "source": []
  },
  {
   "cell_type": "code",
   "execution_count": 8,
   "id": "5d3067ae",
   "metadata": {},
   "outputs": [
    {
     "data": {
      "text/plain": [
       "Index(['spi_editor', 'source', 'dates_checked_from_mm/dd',\n",
       "       'dates_checked_to_mm/dd', '#days_checked', 'spi_qa_editor', 'date_qa'd',\n",
       "       'total_#_shows', 'total_#_episodes', 'titles_correct',\n",
       "       'rovi_episodes_correct', '%_shows_correct', '%_rovi_episodes_correct',\n",
       "       '%_correct', 'wp', 'mp', 'ep', 'we', 'me', 'wt', 'wl', 'ml', 'mat',\n",
       "       'wat', 'mu', 'tv', 'ld/sd', 'urfp', 'wrfp', 'cpr', 'ie_for_p',\n",
       "       'ie_for_e', 'valid_errors', 'errors_marked', 'remarks', 'jira/non_jira',\n",
       "       'team', 'qa_feedback_response', 'priority'],\n",
       "      dtype='object')"
      ]
     },
     "execution_count": 8,
     "metadata": {},
     "output_type": "execute_result"
    }
   ],
   "source": [
    "quality_df.columns"
   ]
  },
  {
   "cell_type": "code",
   "execution_count": null,
   "id": "a1a87ecf",
   "metadata": {},
   "outputs": [],
   "source": []
  },
  {
   "cell_type": "code",
   "execution_count": null,
   "id": "83eca773",
   "metadata": {},
   "outputs": [],
   "source": []
  },
  {
   "cell_type": "code",
   "execution_count": null,
   "id": "0a36cc36",
   "metadata": {},
   "outputs": [],
   "source": []
  },
  {
   "cell_type": "code",
   "execution_count": null,
   "id": "eee0cae3",
   "metadata": {},
   "outputs": [],
   "source": []
  },
  {
   "cell_type": "code",
   "execution_count": null,
   "id": "2dcf9d91",
   "metadata": {},
   "outputs": [],
   "source": []
  },
  {
   "cell_type": "code",
   "execution_count": null,
   "id": "bd5ebe52",
   "metadata": {},
   "outputs": [],
   "source": []
  },
  {
   "cell_type": "code",
   "execution_count": 4,
   "id": "6e8c0cd2",
   "metadata": {},
   "outputs": [
    {
     "name": "stdout",
     "output_type": "stream",
     "text": [
      "<class 'pandas.core.frame.DataFrame'>\n",
      "RangeIndex: 214 entries, 0 to 213\n",
      "Data columns (total 39 columns):\n",
      " #   Column                    Non-Null Count  Dtype  \n",
      "---  ------                    --------------  -----  \n",
      " 0   spi_editor                214 non-null    object \n",
      " 1   source                    214 non-null    object \n",
      " 2   dates_checked_from_mm/dd  214 non-null    object \n",
      " 3   dates_checked_to_mm/dd    214 non-null    object \n",
      " 4   #days_checked             214 non-null    int64  \n",
      " 5   spi_qa_editor             214 non-null    object \n",
      " 6   date_qa'd                 214 non-null    object \n",
      " 7   total_#_shows             214 non-null    int64  \n",
      " 8   total_#_episodes          166 non-null    float64\n",
      " 9   titles_correct            214 non-null    int64  \n",
      " 10  rovi_episodes_correct     166 non-null    float64\n",
      " 11  %_shows_correct           214 non-null    float64\n",
      " 12  %_rovi_episodes_correct   166 non-null    float64\n",
      " 13  %_correct                 214 non-null    float64\n",
      " 14  wp                        2 non-null      float64\n",
      " 15  mp                        0 non-null      float64\n",
      " 16  ep                        0 non-null      float64\n",
      " 17  we                        7 non-null      float64\n",
      " 18  me                        0 non-null      float64\n",
      " 19  wt                        1 non-null      float64\n",
      " 20  wl                        0 non-null      float64\n",
      " 21  ml                        0 non-null      float64\n",
      " 22  mat                       0 non-null      float64\n",
      " 23  wat                       2 non-null      float64\n",
      " 24  mu                        0 non-null      float64\n",
      " 25  tv                        0 non-null      float64\n",
      " 26  ld/sd                     0 non-null      float64\n",
      " 27  urfp                      0 non-null      float64\n",
      " 28  wrfp                      0 non-null      float64\n",
      " 29  cpr                       0 non-null      float64\n",
      " 30  ie_for_p                  27 non-null     float64\n",
      " 31  ie_for_e                  26 non-null     float64\n",
      " 32  valid_errors              214 non-null    int64  \n",
      " 33  errors_marked             214 non-null    int64  \n",
      " 34  remarks                   0 non-null      float64\n",
      " 35  jira/non_jira             214 non-null    object \n",
      " 36  team                      214 non-null    object \n",
      " 37  qa_feedback_response      0 non-null      float64\n",
      " 38  priority                  0 non-null      float64\n",
      "dtypes: float64(26), int64(5), object(8)\n",
      "memory usage: 65.3+ KB\n"
     ]
    },
    {
     "data": {
      "text/plain": [
       "spi_editor                   object\n",
       "source                       object\n",
       "dates_checked_from_mm/dd     object\n",
       "dates_checked_to_mm/dd       object\n",
       "#days_checked                 int64\n",
       "spi_qa_editor                object\n",
       "date_qa'd                    object\n",
       "total_#_shows                 int64\n",
       "total_#_episodes            float64\n",
       "titles_correct                int64\n",
       "rovi_episodes_correct       float64\n",
       "%_shows_correct             float64\n",
       "%_rovi_episodes_correct     float64\n",
       "%_correct                   float64\n",
       "wp                          float64\n",
       "mp                          float64\n",
       "ep                          float64\n",
       "we                          float64\n",
       "me                          float64\n",
       "wt                          float64\n",
       "wl                          float64\n",
       "ml                          float64\n",
       "mat                         float64\n",
       "wat                         float64\n",
       "mu                          float64\n",
       "tv                          float64\n",
       "ld/sd                       float64\n",
       "urfp                        float64\n",
       "wrfp                        float64\n",
       "cpr                         float64\n",
       "ie_for_p                    float64\n",
       "ie_for_e                    float64\n",
       "valid_errors                  int64\n",
       "errors_marked                 int64\n",
       "remarks                     float64\n",
       "jira/non_jira                object\n",
       "team                         object\n",
       "qa_feedback_response        float64\n",
       "priority                    float64\n",
       "dtype: object"
      ]
     },
     "execution_count": 4,
     "metadata": {},
     "output_type": "execute_result"
    }
   ],
   "source": [
    "quality_df.head(5)\n",
    "quality_df.tail(5)\n",
    "quality_df.describe()\n",
    "quality_df.info()\n",
    "quality_df.shape\n",
    "sorted(quality_df.columns.tolist())\n",
    "quality_df.isnull().sum()\n",
    "quality_df.columns\n",
    "quality_df.dtypes"
   ]
  },
  {
   "cell_type": "code",
   "execution_count": null,
   "id": "1608c2b3",
   "metadata": {},
   "outputs": [],
   "source": []
  },
  {
   "cell_type": "code",
   "execution_count": null,
   "id": "f2665613",
   "metadata": {},
   "outputs": [],
   "source": []
  }
 ],
 "metadata": {
  "kernelspec": {
   "display_name": "Python [conda env:base] *",
   "language": "python",
   "name": "conda-base-py"
  },
  "language_info": {
   "codemirror_mode": {
    "name": "ipython",
    "version": 3
   },
   "file_extension": ".py",
   "mimetype": "text/x-python",
   "name": "python",
   "nbconvert_exporter": "python",
   "pygments_lexer": "ipython3",
   "version": "3.12.7"
  }
 },
 "nbformat": 4,
 "nbformat_minor": 5
}
