{
 "cells": [
  {
   "cell_type": "code",
   "execution_count": 2,
   "id": "d7980e0d-34ad-45f2-a83b-52a22b81ccbc",
   "metadata": {},
   "outputs": [
    {
     "name": "stdout",
     "output_type": "stream",
     "text": [
      "10\n",
      "20\n",
      "30\n",
      "40\n",
      "50\n"
     ]
    }
   ],
   "source": [
    "a= [10,20,30,40,50]\n",
    "for y in a:\n",
    "    print(y)"
   ]
  },
  {
   "cell_type": "code",
   "execution_count": 8,
   "id": "93faa323-e3c1-4b6a-ab59-8563dbd3e3ef",
   "metadata": {},
   "outputs": [
    {
     "name": "stdout",
     "output_type": "stream",
     "text": [
      "A\n",
      "a\n",
      "r\n",
      "y\n",
      "a\n",
      "n\n"
     ]
    }
   ],
   "source": [
    "name = \"Aaryan\"\n",
    "for char in name:\n",
    "    print(char)"
   ]
  },
  {
   "cell_type": "code",
   "execution_count": 20,
   "id": "9bf09cbe-4dbb-4f14-9373-f769a8007ade",
   "metadata": {},
   "outputs": [
    {
     "name": "stdout",
     "output_type": "stream",
     "text": [
      "**************Multiplication****************************************** 1\n",
      "1 x 1 is 1\n",
      "1 x 2 is 2\n",
      "1 x 3 is 3\n",
      "1 x 4 is 4\n",
      "1 x 5 is 5\n",
      "1 x 6 is 6\n",
      "1 x 7 is 7\n",
      "1 x 8 is 8\n",
      "1 x 9 is 9\n",
      "1 x 10 is 10\n",
      "1\n",
      "**************Multiplication****************************************** 2\n",
      "2 x 1 is 2\n",
      "2 x 2 is 4\n",
      "2 x 3 is 6\n",
      "2 x 4 is 8\n",
      "2 x 5 is 10\n",
      "2 x 6 is 12\n",
      "2 x 7 is 14\n",
      "2 x 8 is 16\n",
      "2 x 9 is 18\n",
      "2 x 10 is 20\n",
      "2\n",
      "**************Multiplication****************************************** 3\n",
      "3 x 1 is 3\n",
      "3 x 2 is 6\n",
      "3 x 3 is 9\n",
      "3 x 4 is 12\n",
      "3 x 5 is 15\n",
      "3 x 6 is 18\n",
      "3 x 7 is 21\n",
      "3 x 8 is 24\n",
      "3 x 9 is 27\n",
      "3 x 10 is 30\n",
      "3\n",
      "**************Multiplication****************************************** 4\n",
      "4 x 1 is 4\n",
      "4 x 2 is 8\n",
      "4 x 3 is 12\n",
      "4 x 4 is 16\n",
      "4 x 5 is 20\n",
      "4 x 6 is 24\n",
      "4 x 7 is 28\n",
      "4 x 8 is 32\n",
      "4 x 9 is 36\n",
      "4 x 10 is 40\n",
      "4\n",
      "**************Multiplication****************************************** 5\n",
      "5 x 1 is 5\n",
      "5 x 2 is 10\n",
      "5 x 3 is 15\n",
      "5 x 4 is 20\n",
      "5 x 5 is 25\n",
      "5 x 6 is 30\n",
      "5 x 7 is 35\n",
      "5 x 8 is 40\n",
      "5 x 9 is 45\n",
      "5 x 10 is 50\n",
      "5\n"
     ]
    }
   ],
   "source": [
    "for i in range(1,6):\n",
    "    print(\"**************Multiplication******************************************\",i)\n",
    "    for j in range(1,11):\n",
    "        \n",
    "        x=i*j\n",
    "        print(i,\"x\",j,\"is\",x)\n",
    "        \n",
    "    print(i)\n"
   ]
  },
  {
   "cell_type": "code",
   "execution_count": 56,
   "id": "0a2077a6-b2f2-48b3-8bb5-df49d4755e55",
   "metadata": {},
   "outputs": [
    {
     "name": "stdout",
     "output_type": "stream",
     "text": [
      "0\n",
      "2\n",
      "4\n",
      "6\n",
      "8\n",
      "10\n"
     ]
    }
   ],
   "source": [
    "for i in range(11):\n",
    "    if i%2==0:\n",
    "        print(i)\n",
    "\n",
    "    "
   ]
  },
  {
   "cell_type": "code",
   "execution_count": 60,
   "id": "26e4baef-5a02-47f4-88cf-ec47767803b3",
   "metadata": {},
   "outputs": [
    {
     "name": "stdout",
     "output_type": "stream",
     "text": [
      "1\n",
      "3\n",
      "5\n",
      "7\n",
      "9\n"
     ]
    }
   ],
   "source": [
    "for i in range(11):\n",
    "    if i%2!=0:\n",
    "        print(i)\n",
    "   \n"
   ]
  },
  {
   "cell_type": "code",
   "execution_count": 62,
   "id": "084bf70f-9ce9-4444-9eec-c50da7b6da9f",
   "metadata": {},
   "outputs": [
    {
     "name": "stdout",
     "output_type": "stream",
     "text": [
      "0\n",
      "1\n",
      "4\n",
      "9\n",
      "16\n",
      "25\n",
      "36\n",
      "49\n",
      "64\n",
      "81\n",
      "100\n"
     ]
    }
   ],
   "source": [
    "for x in range (11):\n",
    "    y=x**2\n",
    "    print(y)"
   ]
  },
  {
   "cell_type": "code",
   "execution_count": null,
   "id": "13df4130-b194-4d42-8c7f-5dc4f87460b1",
   "metadata": {},
   "outputs": [],
   "source": []
  },
  {
   "cell_type": "code",
   "execution_count": null,
   "id": "4546ffab-fe29-4195-8c3d-c80800428268",
   "metadata": {},
   "outputs": [],
   "source": []
  },
  {
   "cell_type": "code",
   "execution_count": null,
   "id": "7ac2fa11-7e6e-4602-9bc1-1d264587278a",
   "metadata": {},
   "outputs": [],
   "source": []
  },
  {
   "cell_type": "code",
   "execution_count": null,
   "id": "473408ea-b2cc-48e5-866c-8ff24a3c48ba",
   "metadata": {},
   "outputs": [],
   "source": []
  },
  {
   "cell_type": "code",
   "execution_count": null,
   "id": "81996afa-a7ad-4368-acf6-415a7d67f307",
   "metadata": {},
   "outputs": [],
   "source": []
  },
  {
   "cell_type": "code",
   "execution_count": null,
   "id": "cdc08591-3bf9-4359-a226-7228c9a412d5",
   "metadata": {},
   "outputs": [],
   "source": []
  },
  {
   "cell_type": "code",
   "execution_count": null,
   "id": "83a77193-0d22-4acf-a693-5ae7348f1c44",
   "metadata": {},
   "outputs": [],
   "source": []
  },
  {
   "cell_type": "code",
   "execution_count": null,
   "id": "147f9d53-9bfb-4cbf-b451-f8cbe1b24b1b",
   "metadata": {},
   "outputs": [],
   "source": []
  },
  {
   "cell_type": "code",
   "execution_count": null,
   "id": "84f899bd-724c-47a4-9c8d-01c4812e57de",
   "metadata": {},
   "outputs": [],
   "source": []
  },
  {
   "cell_type": "code",
   "execution_count": null,
   "id": "bb028b2f-a141-472f-ba8e-2ddedea1477b",
   "metadata": {},
   "outputs": [],
   "source": []
  },
  {
   "cell_type": "code",
   "execution_count": null,
   "id": "43c1b170-c25f-4b93-8760-4ce57d057825",
   "metadata": {},
   "outputs": [],
   "source": []
  },
  {
   "cell_type": "code",
   "execution_count": null,
   "id": "1ca3c556-b1b5-4f01-a055-e34336a2cf02",
   "metadata": {},
   "outputs": [],
   "source": []
  },
  {
   "cell_type": "code",
   "execution_count": null,
   "id": "231c4f0a-2f52-4deb-88df-bb8daba821fc",
   "metadata": {},
   "outputs": [],
   "source": []
  },
  {
   "cell_type": "code",
   "execution_count": null,
   "id": "42f83801-8ef9-4c23-9b8b-d097514d4533",
   "metadata": {
    "jupyter": {
     "source_hidden": true
    }
   },
   "outputs": [],
   "source": []
  }
 ],
 "metadata": {
  "kernelspec": {
   "display_name": "Python [conda env:base] *",
   "language": "python",
   "name": "conda-base-py"
  },
  "language_info": {
   "codemirror_mode": {
    "name": "ipython",
    "version": 3
   },
   "file_extension": ".py",
   "mimetype": "text/x-python",
   "name": "python",
   "nbconvert_exporter": "python",
   "pygments_lexer": "ipython3",
   "version": "3.12.7"
  }
 },
 "nbformat": 4,
 "nbformat_minor": 5
}
